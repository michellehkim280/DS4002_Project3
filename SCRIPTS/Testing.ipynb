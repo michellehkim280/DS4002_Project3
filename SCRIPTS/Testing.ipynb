{
  "nbformat": 4,
  "nbformat_minor": 0,
  "metadata": {
    "colab": {
      "provenance": []
    },
    "kernelspec": {
      "name": "python3",
      "display_name": "Python 3"
    },
    "language_info": {
      "name": "python"
    }
  },
  "cells": [
    {
      "cell_type": "code",
      "execution_count": null,
      "metadata": {
        "id": "ViAY-aQ6QixV"
      },
      "outputs": [],
      "source": [
        "import os\n",
        "import numpy as np\n",
        "import matplotlib.pyplot as plt\n",
        "from tensorflow.keras.models import load_model\n",
        "import rasterio\n",
        "import cv2\n",
        "import glob\n",
        "\n",
        "# Load the trained model\n",
        "model_path = 'forest_segmentation_amazon.h5'\n",
        "if os.path.exists(model_path):\n",
        "    model = load_model(model_path, custom_objects={'dice_coefficient': dice_coefficient})\n",
        "    print(\"Model loaded successfully.\")\n",
        "else:\n",
        "    print(\"Model not found. Please ensure the path is correct.\")\n",
        "    exit()\n",
        "\n",
        "# Paths to test dataset (adjust paths as needed)\n",
        "test_image_folder = \"/content/drive/MyDrive/folder/AMAZON-1/Test/image/\"\n",
        "test_image_paths = sorted(glob.glob(test_image_folder + \"/*.tif\"))\n",
        "\n",
        "# Load and preprocess test images (no masks available)\n",
        "def load_test_data(image_paths, target_size=(256, 256)):\n",
        "    images = []\n",
        "    for img_path in image_paths:\n",
        "        # Load GeoTIFF image\n",
        "        with rasterio.open(img_path) as src:\n",
        "            image = src.read()\n",
        "            image = np.transpose(image, (1, 2, 0))  # Reorder dimensions to (height, width, channels)\n",
        "            image = cv2.resize(image, target_size, interpolation=cv2.INTER_AREA)  # Resize image\n",
        "            image = cv2.normalize(image, None, alpha=0, beta=1, norm_type=cv2.NORM_MINMAX, dtype=cv2.CV_32F)\n",
        "\n",
        "        images.append(image)\n",
        "    images = np.array(images)\n",
        "\n",
        "    return images\n",
        "\n",
        "# Load test images\n",
        "X_test = load_test_data(test_image_paths, target_size=(256, 256))\n",
        "\n",
        "# Function to make predictions and visualize results\n",
        "def visualize_predictions(model, X_test, num_samples=5):\n",
        "    for i in range(num_samples):\n",
        "        sample_image = X_test[i]\n",
        "\n",
        "        # Expand dimensions to create a batch of 1 for prediction\n",
        "        predicted_mask = model.predict(np.expand_dims(sample_image, axis=0))[0]\n",
        "\n",
        "        # Threshold the predicted mask (convert probability to binary output)\n",
        "        predicted_mask = (predicted_mask > 0.5).astype(np.uint8)\n",
        "\n",
        "        # Plot original image and predicted mask\n",
        "        plt.figure(figsize=(10, 5))\n",
        "\n",
        "        plt.subplot(1, 2, 1)\n",
        "        plt.title('Input Image')\n",
        "        plt.imshow(sample_image[:, :, :3])  # Display RGB channels\n",
        "\n",
        "        plt.subplot(1, 2, 2)\n",
        "        plt.title('Predicted Mask')\n",
        "        plt.imshow(predicted_mask[:, :, 0], cmap='gray')\n",
        "\n",
        "        plt.show()\n",
        "\n",
        "# Visualize predictions on the test dataset\n",
        "visualize_predictions(model, X_test, num_samples=5)"
      ]
    }
  ]
}